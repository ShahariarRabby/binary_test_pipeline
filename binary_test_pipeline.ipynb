{
 "cells": [
  {
   "cell_type": "code",
   "execution_count": 1,
   "id": "a934f139",
   "metadata": {},
   "outputs": [],
   "source": [
    "import os\n",
    "import numpy as np\n",
    "import tensorflow as tf\n",
    "from tensorflow import keras\n",
    "from tensorflow.keras import layers\n",
    "from sklearn.metrics import confusion_matrix, classification_report,roc_curve\n",
    "from sklearn.metrics import accuracy_score, roc_auc_score, ConfusionMatrixDisplay, auc"
   ]
  },
  {
   "cell_type": "code",
   "execution_count": null,
   "id": "1e39f13b",
   "metadata": {},
   "outputs": [],
   "source": [
    "def get_model():\n",
    "    #write your model here\n",
    "    return model\n",
    "\n",
    "model = None\n",
    "model = get_model()\n",
    "model.summary()"
   ]
  },
  {
   "cell_type": "code",
   "execution_count": 14,
   "id": "6ca0dbae",
   "metadata": {},
   "outputs": [],
   "source": [
    "weight_path = #add your model weight\n",
    "model.load_weights(weight_path)\n",
    "\n",
    "# compile model if you want to call evaluation function\n",
    "model.compile(loss=\"binary_crossentropy\",optimizer=keras.optimizers.Adam(learning_rate=0.0001),metrics=['acc',tf.keras.metrics.AUC(curve='ROC')])"
   ]
  },
  {
   "cell_type": "markdown",
   "id": "744715c5",
   "metadata": {},
   "source": [
    "### Follow this or assign your own data"
   ]
  },
  {
   "cell_type": "code",
   "execution_count": 16,
   "id": "6d9c2ad8",
   "metadata": {},
   "outputs": [
    {
     "data": {
      "text/plain": [
       "3403"
      ]
     },
     "execution_count": 16,
     "metadata": {},
     "output_type": "execute_result"
    }
   ],
   "source": [
    "abnormal_scans = # add your negative data\n",
    "    \n",
    "normal_scans = # add your positive data\n",
    "\n",
    "\n",
    "# assign 1, for the normal ones assign 0.\n",
    "abnormal_labels = np.array([1 for _ in range(len(abnormal_scans))]) # or assigns your label\n",
    "normal_labels = np.array([0 for _ in range(len(normal_scans))])\n",
    "\n",
    "x_val =  np.concatenate((abnormal_scans, normal_scans), axis=0)\n",
    "y_val = np.concatenate((abnormal_labels, normal_labels), axis=0)\n",
    "len(y_val)"
   ]
  },
  {
   "cell_type": "code",
   "execution_count": 18,
   "id": "699219ab",
   "metadata": {},
   "outputs": [
    {
     "name": "stdout",
     "output_type": "stream",
     "text": [
      "1702/1702 [==============================] - 50s 29ms/step\n"
     ]
    }
   ],
   "source": [
    "prediction = model.predict(x_val, batch_size=2)"
   ]
  },
  {
   "cell_type": "code",
   "execution_count": 19,
   "id": "d3c5cc51",
   "metadata": {},
   "outputs": [
    {
     "name": "stdout",
     "output_type": "stream",
     "text": [
      "0.8166323831913018 \n",
      "               precision    recall  f1-score   support\n",
      "\n",
      "           0       0.85      0.85      0.85      2131\n",
      "           1       0.75      0.76      0.75      1272\n",
      "\n",
      "    accuracy                           0.82      3403\n",
      "   macro avg       0.80      0.80      0.80      3403\n",
      "weighted avg       0.82      0.82      0.82      3403\n",
      "\n",
      "0.804119570290811 0.886967688716137\n"
     ]
    },
    {
     "data": {
      "text/plain": [
       "array([[1818,  311],\n",
       "       [ 313,  961]])"
      ]
     },
     "execution_count": 19,
     "metadata": {},
     "output_type": "execute_result"
    }
   ],
   "source": [
    "scores = []\n",
    "\n",
    "for i in prediction:\n",
    "    if i < 0.5:\n",
    "        scores.append(0)\n",
    "    else:\n",
    "        scores.append(1)\n",
    "        \n",
    "\n",
    "fpr, tpr, thresholds = roc_curve(scores, y_val)\n",
    "cr = classification_report(y_val, scores)\n",
    "acc = accuracy_score(scores, y_val)\n",
    "auc1 = auc(fpr, tpr)\n",
    "roc_auc = roc_auc_score(y_val, prediction)\n",
    "print(acc,'\\n', cr)\n",
    "print(auc1, roc_auc)\n",
    "cm = confusion_matrix(scores, y_val)\n",
    "cm"
   ]
  },
  {
   "cell_type": "code",
   "execution_count": 20,
   "id": "422f5429",
   "metadata": {},
   "outputs": [
    {
     "data": {
      "text/plain": [
       "<sklearn.metrics._plot.confusion_matrix.ConfusionMatrixDisplay at 0x2aab374c47c0>"
      ]
     },
     "execution_count": 20,
     "metadata": {},
     "output_type": "execute_result"
    },
    {
     "data": {
      "image/png": "[encoded data removed]",
      "text/plain": [
       "<Figure size 432x288 with 2 Axes>"
      ]
     },
     "metadata": {
      "needs_background": "light"
     },
     "output_type": "display_data"
    }
   ],
   "source": [
    "cmd = ConfusionMatrixDisplay(cm, display_labels=['0','1'])\n",
    "cmd.plot()"
   ]
  },
  {
   "cell_type": "code",
   "execution_count": 13,
   "id": "aaf8a5e9",
   "metadata": {},
   "outputs": [
    {
     "data": {
      "image/png": "[encoded data removed]",
      "text/plain": [
       "<Figure size 432x288 with 1 Axes>"
      ]
     },
     "metadata": {
      "needs_background": "light"
     },
     "output_type": "display_data"
    }
   ],
   "source": [
    "from sklearn.metrics import roc_curve\n",
    "from sklearn.metrics import RocCurveDisplay\n",
    "\n",
    "fpr, tpr, _ = roc_curve(y_val, prediction, pos_label=1)\n",
    "roc_display = RocCurveDisplay(fpr=fpr, tpr=tpr).plot()"
   ]
  },
  {
   "cell_type": "code",
   "execution_count": null,
   "id": "c0c35e01",
   "metadata": {},
   "outputs": [],
   "source": []
  }
 ],
 "metadata": {
  "anaconda-cloud": {},
  "kernelspec": {
   "display_name": "Python [conda env:.conda-tf]",
   "language": "python",
   "name": "conda-env-.conda-tf-py"
  },
  "language_info": {
   "codemirror_mode": {
    "name": "ipython",
    "version": 3
   },
   "file_extension": ".py",
   "mimetype": "text/x-python",
   "name": "python",
   "nbconvert_exporter": "python",
   "pygments_lexer": "ipython3",
   "version": "3.9.12"
  }
 },
 "nbformat": 4,
 "nbformat_minor": 5
}
